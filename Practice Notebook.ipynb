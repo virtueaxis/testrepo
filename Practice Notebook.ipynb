{
 "cells": [
  {
   "cell_type": "markdown",
   "id": "de882c30",
   "metadata": {},
   "source": [
    "# \"My Jupyter Notebook on IBM Watson Studio\""
   ]
  },
  {
   "cell_type": "markdown",
   "id": "9de1cbf8",
   "metadata": {},
   "source": [
    "**Lucy Snow**\n",
    "\n",
    "Research Assistant"
   ]
  },
  {
   "cell_type": "markdown",
   "id": "859ae867",
   "metadata": {},
   "source": [
    "*I am interested in data science because I think it is useful and applicable to a wide range of fields. I use it as part of my current work, and I think it will be a great asset for my future career path.*"
   ]
  },
  {
   "cell_type": "markdown",
   "id": "9e7409bb",
   "metadata": {},
   "source": [
    "### The following code assigns values to variables and will perform a simple equation using them."
   ]
  },
  {
   "cell_type": "code",
   "execution_count": 1,
   "id": "e36a3684",
   "metadata": {},
   "outputs": [
    {
     "data": {
      "text/plain": [
       "9"
      ]
     },
     "execution_count": 1,
     "metadata": {},
     "output_type": "execute_result"
    }
   ],
   "source": [
    "apple = 4\n",
    "banana = 7\n",
    "strawberry = 2\n",
    "\n",
    "apple + banana - strawberry"
   ]
  },
  {
   "cell_type": "markdown",
   "id": "ccd5f0e4",
   "metadata": {},
   "source": [
    "------\n",
    "\n",
    "#### My three favorite fruits are:\n",
    "\n",
    "1. peaches\n",
    "2. apples\n",
    "  * specifically, Honeycrisp\n",
    "3. ~~raspberries~~ pineapple\n",
    "\n",
    "#### Favorite types of animal:\n",
    "\n",
    "| class | species | reason |\n",
    "--- | --- | ---\n",
    "| mammal | black bear | personable |\n",
    "| reptile | softshell turtle | cute nose |\n",
    "| amphibian | Japanese giant salamander | unique |"
   ]
  },
  {
   "cell_type": "code",
   "execution_count": null,
   "id": "2339821d",
   "metadata": {},
   "outputs": [],
   "source": []
  }
 ],
 "metadata": {
  "kernelspec": {
   "display_name": "Python 3 (ipykernel)",
   "language": "python",
   "name": "python3"
  },
  "language_info": {
   "codemirror_mode": {
    "name": "ipython",
    "version": 3
   },
   "file_extension": ".py",
   "mimetype": "text/x-python",
   "name": "python",
   "nbconvert_exporter": "python",
   "pygments_lexer": "ipython3",
   "version": "3.9.13"
  }
 },
 "nbformat": 4,
 "nbformat_minor": 5
}
